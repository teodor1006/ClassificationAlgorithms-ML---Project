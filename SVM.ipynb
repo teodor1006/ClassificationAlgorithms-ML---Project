{
 "cells": [
  {
   "cell_type": "markdown",
   "metadata": {},
   "source": [
    "## Task: Diagnosing breast cancer\n",
    "\n",
    "We have found patient data for breast cancer on the internet. Can we train a model that can make the diagnosis?\n",
    " \n",
    "=> Source of the data: https://www.kaggle.com/uciml/breast-cancer-wisconsin-data\n",
    "\n",
    "The goal is to predict the type of tumor (column: `diagnosis`). With a well-performing model, we could potentially save some surgeries or at least alleviate many concerns.\n",
    "\n",
    "- **M:** Malignant, malignant tumor\n",
    "- **B:** Benign, benign cancer\n",
    "\n",
    "**Task:**\n",
    " - Train a model.\n",
    " - You cannot directly predict the `diagnosis` column. First, it needs to be converted into a column with 0 and 1 values.\n",
    " - Evaluate various classification models... which one works the best?\n",
    " - Note that you may need to scale the data for some models.\n",
    " - Make sure to set aside test data - only use it at the very end to determine accuracy on never-before-seen data.\n",
    "   - **Important:** To make this meaningful, we can only assess accuracy on the test data *after* selecting the model (and tuning the parameters)!\n",
    " - The `id` column is likely not informative for our model. You should consider removing this column from the data.\n",
    "\n",
    "**Bonus questions:**\n",
    " - For some models, PCA (Principal Component Analysis) might be worthwhile.\n",
    " - How many columns does the model actually need? Can it work with fewer columns? This would mean our doctor would need to measure and enter fewer values into the computer, saving valuable time!"
   ]
  },
  {
   "cell_type": "code",
   "execution_count": null,
   "metadata": {},
   "outputs": [],
   "source": [
    "# Matplotlib config\n",
    "\n",
    "%matplotlib inline\n",
    "%config InlineBackend.figure_formats = ['svg']\n",
    "%config InlineBackend.rc = {'figure.figsize': (5.0, 4.0)}\n",
    "\n",
    "import pandas as pd\n",
    "import numpy as np\n",
    "\n",
    "df = pd.read_csv(\"cancer.csv\")\n",
    "df.drop(\"id\", axis = 1, inplace = True)\n",
    "df[\"diagnosis\"] = df[\"diagnosis\"] == \"M\"\n",
    "\n",
    "df.head()"
   ]
  },
  {
   "cell_type": "code",
   "execution_count": null,
   "metadata": {},
   "outputs": [],
   "source": [
    "from sklearn.model_selection import train_test_split, GridSearchCV, RepeatedKFold\n",
    "from sklearn.svm import SVC\n",
    "\n",
    "X = df[[\"concave points_worst\", \"perimeter_worst\", \"perimeter_mean\", \"radius_mean\"]]\n",
    "\n",
    "# X = df.drop(\"diagnosis\", axis = 1)\n",
    "y = df[\"diagnosis\"]\n",
    "\n",
    "X_train, X_test, y_train, y_test = train_test_split(X, y, train_size = 0.8, random_state = 42)\n",
    "\n",
    "model = GridSearchCV(SVC(), param_grid = {\n",
    "    'kernel': [\"rbf\"],\n",
    "    'gamma': [0.01, 0.1, 1, 10],\n",
    "    \"C\": [0.01, 0.1, 0.5, 1, 5, 10]\n",
    "}, cv = RepeatedKFold(), n_jobs = 15)\n",
    "\n",
    "model.fit(X_train, y_train)\n",
    "\n",
    "print(model.best_score_)"
   ]
  }
 ],
 "metadata": {
  "kernelspec": {
   "display_name": "Python 3",
   "language": "python",
   "name": "python3"
  },
  "language_info": {
   "codemirror_mode": {
    "name": "ipython",
    "version": 3
   },
   "file_extension": ".py",
   "mimetype": "text/x-python",
   "name": "python",
   "nbconvert_exporter": "python",
   "pygments_lexer": "ipython3",
   "version": "3.8.3"
  }
 },
 "nbformat": 4,
 "nbformat_minor": 4
}
